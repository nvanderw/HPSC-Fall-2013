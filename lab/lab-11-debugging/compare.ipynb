{
 "metadata": {
  "name": ""
 },
 "nbformat": 3,
 "nbformat_minor": 0,
 "worksheets": [
  {
   "cells": [
    {
     "cell_type": "markdown",
     "metadata": {},
     "source": [
      "#Jacobi MPI"
     ]
    },
    {
     "cell_type": "code",
     "collapsed": false,
     "input": [
      "from IPython.parallel import Client, error\n",
      "cluster = Client(profile='mpi')"
     ],
     "language": "python",
     "metadata": {},
     "outputs": [],
     "prompt_number": 1
    },
    {
     "cell_type": "code",
     "collapsed": false,
     "input": [
      "%%px\n",
      "from mpi4py import MPI\n",
      "import numpy as np\n",
      "import math"
     ],
     "language": "python",
     "metadata": {},
     "outputs": [],
     "prompt_number": 2
    },
    {
     "cell_type": "code",
     "collapsed": false,
     "input": [
      "%%px\n",
      "mpi = MPI.COMM_WORLD\n",
      "print \"MPI rank: %i/%i\" % (mpi.rank, mpi.size)"
     ],
     "language": "python",
     "metadata": {},
     "outputs": [
      {
       "output_type": "stream",
       "stream": "stdout",
       "text": [
        "[stdout:0] MPI rank: 1/4\n",
        "[stdout:1] MPI rank: 2/4\n",
        "[stdout:2] MPI rank: 0/4\n",
        "[stdout:3] MPI rank: 3/4\n"
       ]
      }
     ],
     "prompt_number": 3
    },
    {
     "cell_type": "markdown",
     "metadata": {},
     "source": [
      "## Process\n",
      "\n",
      "** coding** \n",
      "\n",
      "- Solve a small problem.\n",
      "- What is the smallest parallel problem we can solve?\n",
      "    - How many processors?\n",
      "    - Matrix dimension?\n",
      "- How do we know we are getting the correct answer?\n",
      "\n",
      "**scaling**\n",
      "\n",
      "- HPCToolkit"
     ]
    },
    {
     "cell_type": "markdown",
     "metadata": {},
     "source": [
      "##Serial Jacobi"
     ]
    },
    {
     "cell_type": "code",
     "collapsed": false,
     "input": [
      "class SerialJacobi:\n",
      "\n",
      "    def __init__(self, **kwargs):\n",
      "        self.T = kwargs.get('T', 2.0)\n",
      "        self.R = kwargs.get('R', 2.0)\n",
      "        self.B = kwargs.get('B', 1.0)\n",
      "        self.L = kwargs.get('L', 1.0)\n",
      "        self.n = kwargs.get('n', 4.0) + 2 #ghost\n",
      "        self.create_matrix()\n",
      "    \n",
      "    # Create the matrix A\n",
      "    def create_matrix(self):\n",
      "        self.A = np.zeros((self.n, self.n))\n",
      "        self.A[0,:] = int(self.T)     # Top\n",
      "        self.A[self.n-1,:] = int(self.B)  # Bottom\n",
      "        self.A[:,0] = int(self.L)     # Left\n",
      "        self.A[:,self.n-1] = int(self.R)  # Right\n",
      "    \n",
      "    # A single iteration\n",
      "    def iterate(self):\n",
      "        A_new = self.A.copy()\n",
      "        for i in np.arange(1., self.n-1):\n",
      "            for j in np.arange(1.,  self.n-1):\n",
      "                A_new[i,j] = (self.A[i,j+1] + self.A[i,j-1] + self.A[i-1,j] + self.A[i+1,j])*0.25\n",
      "        self.A = A_new.copy()\n",
      "\n",
      "    # Print the state\n",
      "    def printstate(self):\n",
      "        print ''\n",
      "        for i in np.arange(1., self.n-1):\n",
      "            if i % (2) and i !=1:\n",
      "                print '-'*6*(self.A.shape[0])\n",
      "            for j in np.arange(1.,  self.n-1):\n",
      "                if j % (2) and j != 1:\n",
      "                        print '|',\n",
      "                print \"{:6.2f}\".format(self.A[i,j]), \n",
      "            print ''\n",
      "        print ''"
     ],
     "language": "python",
     "metadata": {},
     "outputs": [],
     "prompt_number": 5
    },
    {
     "cell_type": "code",
     "collapsed": false,
     "input": [
      "serial = SerialJacobi(n=4)\n",
      "print \"start\"\n",
      "serial.printstate()\n",
      "\n",
      "print \"interation = 1\"\n",
      "serial.iterate()\n",
      "serial.printstate()\n",
      "\n",
      "print \"interation = 2\"\n",
      "serial.iterate()\n",
      "serial.printstate()"
     ],
     "language": "python",
     "metadata": {},
     "outputs": [
      {
       "output_type": "stream",
       "stream": "stdout",
       "text": [
        "start\n",
        "\n",
        "  0.00   0.00 |   0.00   0.00 \n",
        "  0.00   0.00 |   0.00   0.00 \n",
        "------------------------------------\n",
        "  0.00   0.00 |   0.00   0.00 \n",
        "  0.00   0.00 |   0.00   0.00 \n",
        "\n",
        "interation = 1\n",
        "\n",
        "  0.75   0.50 |   0.50   1.00 \n",
        "  0.25   0.00 |   0.00   0.50 \n",
        "------------------------------------\n",
        "  0.25   0.00 |   0.00   0.50 \n",
        "  0.50   0.25 |   0.25   0.75 \n",
        "\n",
        "interation = 2\n",
        "\n",
        "  0.94   0.81 |   0.88   1.25 \n",
        "  0.50   0.19 |   0.25   0.88 \n",
        "------------------------------------\n",
        "  0.44   0.12 |   0.19   0.81 \n",
        "  0.62   0.44 |   0.50   0.94 \n",
        "\n"
       ]
      }
     ],
     "prompt_number": 8
    },
    {
     "cell_type": "markdown",
     "metadata": {},
     "source": [
      "## Parallel Jacobi"
     ]
    },
    {
     "cell_type": "markdown",
     "metadata": {},
     "source": [
      "Our goal is to create a similar interface for building and debugging.\n",
      "\n",
      "    parallel = ParallelJacobi(n=4)\n",
      "    parallel.printstate()\n",
      "    \n",
      "    parallel.iterate()\n",
      "    parallel.printstate()\n",
      "    \n",
      "So that we can see the same output:\n",
      "\n",
      "      0.00   0.00 |   0.00   0.00 \n",
      "      0.00   0.00 |   0.00   0.00 \n",
      "    ------------------------------------\n",
      "      0.00   0.00 |   0.00   0.00 \n",
      "      0.00   0.00 |   0.00   0.00 \n",
      "    \n",
      "    \n",
      "      0.75   0.50 |   0.50   1.00 \n",
      "      0.25   0.00 |   0.00   0.50 \n",
      "    ------------------------------------\n",
      "      0.25   0.00 |   0.00   0.50 \n",
      "      0.50   0.25 |   0.25   0.75 \n",
      "\n",
      "Then we can try larger problems, debug those, ect."
     ]
    },
    {
     "cell_type": "markdown",
     "metadata": {},
     "source": [
      "## Work though an example on paper first"
     ]
    },
    {
     "cell_type": "code",
     "collapsed": false,
     "input": [
      "%%px\n",
      "import parallel_jacobi"
     ],
     "language": "python",
     "metadata": {},
     "outputs": [],
     "prompt_number": 12
    },
    {
     "cell_type": "code",
     "collapsed": false,
     "input": [
      "%%px\n",
      "jac = parallel_jacobi.ParallelJacobi(n=4)\n",
      "jac.printstate()\n",
      "jac.ghost_printstate()"
     ],
     "language": "python",
     "metadata": {},
     "outputs": [
      {
       "output_type": "stream",
       "stream": "stdout",
       "text": [
        "[stdout:2] \n",
        "  0.00   0.00 |   0.00   0.00 \n",
        "  0.00   0.00 |   0.00   0.00 \n",
        "------------------------------------\n",
        "  0.00   0.00 |   0.00   0.00 \n",
        "  0.00   0.00 |   0.00   0.00 \n",
        "\n",
        "\n",
        "  1.00   2.00   2.00   2.00 |   2.00   2.00   2.00   2.00 \n",
        "  1.00   0.00   0.00   0.00 |   0.00   0.00   0.00   2.00 \n",
        "  1.00   0.00   0.00   0.00 |   0.00   0.00   0.00   2.00 \n",
        "  1.00   0.00   0.00   0.00 |   0.00   0.00   0.00   2.00 \n",
        "------------------------------------------------\n",
        "  1.00   0.00   0.00   0.00 |   0.00   0.00   0.00   2.00 \n",
        "  1.00   0.00   0.00   0.00 |   0.00   0.00   0.00   2.00 \n",
        "  1.00   0.00   0.00   0.00 |   0.00   0.00   0.00   2.00 \n",
        "  1.00   1.00   1.00   1.00 |   1.00   1.00   1.00   2.00 \n",
        "\n"
       ]
      }
     ],
     "prompt_number": 13
    },
    {
     "cell_type": "markdown",
     "metadata": {},
     "source": [
      "What are the results after our first iteration?"
     ]
    },
    {
     "cell_type": "code",
     "collapsed": false,
     "input": [
      "%%px\n",
      "jac.iterate()\n",
      "jac.ghost_printstate()"
     ],
     "language": "python",
     "metadata": {},
     "outputs": [
      {
       "output_type": "stream",
       "stream": "stdout",
       "text": [
        "[stdout:2] \n",
        "  1.00   2.00   2.00   2.00 |   2.00   2.00   2.00   2.00 \n",
        "  1.00   0.75   0.50   0.00 |   0.00   0.50   1.00   2.00 \n",
        "  1.00   0.25   0.00   0.00 |   0.00   0.00   0.50   2.00 \n",
        "  1.00   0.00   0.00   0.00 |   0.00   0.00   0.00   2.00 \n",
        "------------------------------------------------\n",
        "  1.00   0.00   0.00   0.00 |   0.00   0.00   0.00   2.00 \n",
        "  1.00   0.25   0.00   0.00 |   0.00   0.00   0.50   2.00 \n",
        "  1.00   0.50   0.25   0.00 |   0.00   0.25   0.75   2.00 \n",
        "  1.00   1.00   1.00   1.00 |   1.00   1.00   1.00   2.00 \n",
        "\n"
       ]
      }
     ],
     "prompt_number": 14
    },
    {
     "cell_type": "markdown",
     "metadata": {},
     "source": [
      "What are the results after the ghost point communications?"
     ]
    },
    {
     "cell_type": "code",
     "collapsed": false,
     "input": [
      "%%px\n",
      "jac.communicate()\n",
      "jac.ghost_printstate()"
     ],
     "language": "python",
     "metadata": {},
     "outputs": [
      {
       "output_type": "stream",
       "stream": "stdout",
       "text": [
        "[stdout:2] \n",
        "  1.00   2.00   2.00   2.00 |   2.00   2.00   2.00   2.00 \n",
        "  1.00   0.75   0.50   0.50 |   0.50   0.50   1.00   2.00 \n",
        "  1.00   0.25   0.00   0.00 |   0.00   0.00   0.50   2.00 \n",
        "  1.00   0.25   0.00   0.00 |   0.00   0.00   0.50   2.00 \n",
        "------------------------------------------------\n",
        "  1.00   0.25   0.00   0.00 |   0.00   0.00   0.50   2.00 \n",
        "  1.00   0.25   0.00   0.00 |   0.00   0.00   0.50   2.00 \n",
        "  1.00   0.50   0.25   0.25 |   0.25   0.25   0.75   2.00 \n",
        "  1.00   1.00   1.00   1.00 |   1.00   1.00   1.00   2.00 \n",
        "\n"
       ]
      }
     ],
     "prompt_number": 15
    },
    {
     "cell_type": "markdown",
     "metadata": {},
     "source": [
      "Again..."
     ]
    },
    {
     "cell_type": "code",
     "collapsed": false,
     "input": [
      "%%px\n",
      "jac.iterate()\n",
      "jac.ghost_printstate()"
     ],
     "language": "python",
     "metadata": {},
     "outputs": [
      {
       "output_type": "stream",
       "stream": "stdout",
       "text": [
        "[stdout:2] \n",
        "  1.00   2.00   2.00   2.00 |   2.00   2.00   2.00   2.00 \n",
        "  1.00   0.94   0.81   0.50 |   0.50   0.88   1.25   2.00 \n",
        "  1.00   0.50   0.19   0.00 |   0.00   0.25   0.88   2.00 \n",
        "  1.00   0.25   0.00   0.00 |   0.00   0.00   0.50   2.00 \n",
        "------------------------------------------------\n",
        "  1.00   0.25   0.00   0.00 |   0.00   0.00   0.50   2.00 \n",
        "  1.00   0.44   0.12   0.00 |   0.00   0.19   0.81   2.00 \n",
        "  1.00   0.62   0.44   0.25 |   0.25   0.50   0.94   2.00 \n",
        "  1.00   1.00   1.00   1.00 |   1.00   1.00   1.00   2.00 \n",
        "\n"
       ]
      }
     ],
     "prompt_number": 16
    },
    {
     "cell_type": "code",
     "collapsed": false,
     "input": [
      "%%px\n",
      "jac.communicate()\n",
      "jac.ghost_printstate()"
     ],
     "language": "python",
     "metadata": {},
     "outputs": [
      {
       "output_type": "stream",
       "stream": "stdout",
       "text": [
        "[stdout:2] \n",
        "  1.00   2.00   2.00   2.00 |   2.00   2.00   2.00   2.00 \n",
        "  1.00   0.94   0.81   0.88 |   0.81   0.88   1.25   2.00 \n",
        "  1.00   0.50   0.19   0.25 |   0.19   0.25   0.88   2.00 \n",
        "  1.00   0.44   0.12   0.19 |   0.12   0.19   0.81   2.00 \n",
        "------------------------------------------------\n",
        "  1.00   0.50   0.19   0.25 |   0.19   0.25   0.88   2.00 \n",
        "  1.00   0.44   0.12   0.19 |   0.12   0.19   0.81   2.00 \n",
        "  1.00   0.62   0.44   0.50 |   0.44   0.50   0.94   2.00 \n",
        "  1.00   1.00   1.00   1.00 |   1.00   1.00   1.00   2.00 \n",
        "\n"
       ]
      }
     ],
     "prompt_number": 17
    },
    {
     "cell_type": "markdown",
     "metadata": {},
     "source": [
      "###Serial: three iterations"
     ]
    },
    {
     "cell_type": "code",
     "collapsed": false,
     "input": [
      "serial = SerialJacobi(n=4)\n",
      "serial.iterate()\n",
      "serial.iterate()\n",
      "serial.iterate()\n",
      "print \"iteration 3\"\n",
      "serial.printstate()"
     ],
     "language": "python",
     "metadata": {},
     "outputs": [
      {
       "output_type": "stream",
       "stream": "stdout",
       "text": [
        "iteration 3\n",
        "\n",
        "  1.08   1.00 |   1.08   1.44 \n",
        "  0.64   0.42 |   0.53   1.08 \n",
        "------------------------------------\n",
        "  0.56   0.31 |   0.42   1.00 \n",
        "  0.72   0.56 |   0.64   1.08 \n",
        "\n"
       ]
      }
     ],
     "prompt_number": 20
    },
    {
     "cell_type": "markdown",
     "metadata": {},
     "source": [
      "### Parallel, after three iterations"
     ]
    },
    {
     "cell_type": "code",
     "collapsed": false,
     "input": [
      "%%px\n",
      "jac.iterate()\n",
      "jac.communicate()\n",
      "jac.printstate()"
     ],
     "language": "python",
     "metadata": {},
     "outputs": [
      {
       "output_type": "stream",
       "stream": "stdout",
       "text": [
        "[stdout:0] iteration 3\n",
        "[stdout:1] iteration 3\n",
        "[stdout:2] \n",
        "iteration 3\n",
        "\n",
        "  1.08   1.00 |   1.08   1.44 \n",
        "  0.64   0.42 |   0.53   1.08 \n",
        "------------------------------------\n",
        "  0.56   0.31 |   0.42   1.00 \n",
        "  0.72   0.56 |   0.64   1.08 \n",
        "\n",
        "[stdout:3] iteration 3\n"
       ]
      }
     ],
     "prompt_number": 21
    },
    {
     "cell_type": "markdown",
     "metadata": {},
     "source": [
      "###Serial steady-state"
     ]
    },
    {
     "cell_type": "code",
     "collapsed": false,
     "input": [
      "for i in range(1000):\n",
      "    serial.iterate()\n",
      "serial.printstate()"
     ],
     "language": "python",
     "metadata": {},
     "outputs": [
      {
       "output_type": "stream",
       "stream": "stdout",
       "text": [
        "\n",
        "  1.50   1.70 |   1.82   1.91 \n",
        "  1.30   1.50 |   1.66   1.82 \n",
        "------------------------------------\n",
        "  1.18   1.34 |   1.50   1.70 \n",
        "  1.09   1.18 |   1.30   1.50 \n",
        "\n"
       ]
      }
     ],
     "prompt_number": 51
    },
    {
     "cell_type": "markdown",
     "metadata": {},
     "source": [
      "###Parallel steady-state"
     ]
    },
    {
     "cell_type": "code",
     "collapsed": false,
     "input": [
      "%%px\n",
      "for i in range(1000):\n",
      "    jac.iterate()\n",
      "    jac.communicate()\n",
      "jac.printstate()"
     ],
     "language": "python",
     "metadata": {},
     "outputs": [
      {
       "output_type": "stream",
       "stream": "stdout",
       "text": [
        "[stdout:2] \n",
        "  1.50   1.70 |   1.82   1.91 \n",
        "  1.30   1.50 |   1.66   1.82 \n",
        "------------------------------------\n",
        "  1.18   1.34 |   1.50   1.70 \n",
        "  1.09   1.18 |   1.30   1.50 \n",
        "\n"
       ]
      }
     ],
     "prompt_number": 22
    },
    {
     "cell_type": "markdown",
     "metadata": {},
     "source": [
      "## What now?\n",
      "\n",
      "Bigger problem"
     ]
    },
    {
     "cell_type": "code",
     "collapsed": false,
     "input": [
      "serial = SerialJacobi(n=6)\n",
      "for i in range(1000):\n",
      "    serial.iterate()\n",
      "serial.printstate()"
     ],
     "language": "python",
     "metadata": {},
     "outputs": [
      {
       "output_type": "stream",
       "stream": "stdout",
       "text": [
        "\n",
        "  1.50   1.70 |   1.80   1.86 |   1.91   1.95 \n",
        "  1.30   1.50 |   1.63   1.73 |   1.82   1.91 \n",
        "------------------------------------------------\n",
        "  1.20   1.37 |   1.50   1.62 |   1.73   1.86 \n",
        "  1.14   1.27 |   1.38   1.50 |   1.63   1.80 \n",
        "------------------------------------------------\n",
        "  1.09   1.18 |   1.27   1.37 |   1.50   1.70 \n",
        "  1.05   1.09 |   1.14   1.20 |   1.30   1.50 \n",
        "\n"
       ]
      }
     ],
     "prompt_number": 23
    },
    {
     "cell_type": "markdown",
     "metadata": {},
     "source": [
      "### What do we need?\n",
      "\n",
      "- grid\n",
      "    - sub_A\n",
      "    - create_cart\n",
      "    - neighbors\n",
      "- communicate\n",
      "    - scatter, broadcast initial settings\n",
      "    - shift ghost boundaries\n",
      "    - gather final matrix\n",
      "\n",
      "### Advice\n",
      "\n",
      "- Build the gather method for A first\n",
      "    - Use this to debug\n",
      "    - You need it anyway!\n",
      "- Consider building one to show all the ghost points.\n",
      "    - Not that much more work\n",
      "- Small, effective tests for each method to make it's doing what you want."
     ]
    },
    {
     "cell_type": "code",
     "collapsed": false,
     "input": [],
     "language": "python",
     "metadata": {},
     "outputs": []
    }
   ],
   "metadata": {}
  }
 ]
}