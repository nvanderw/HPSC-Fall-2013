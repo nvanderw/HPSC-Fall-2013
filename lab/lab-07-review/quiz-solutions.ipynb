{
 "metadata": {
  "css": [
   ""
  ],
  "name": ""
 },
 "nbformat": 3,
 "nbformat_minor": 0,
 "worksheets": [
  {
   "cells": [
    {
     "cell_type": "heading",
     "level": 1,
     "metadata": {
      "slideshow": {
       "slide_type": "slide"
      }
     },
     "source": [
      "Review"
     ]
    },
    {
     "cell_type": "markdown",
     "metadata": {
      "slideshow": {
       "slide_type": "-"
      }
     },
     "source": [
      "\n",
      "Speedup\n",
      "\n",
      "$$\\psi(n,p) < \\frac{\\sigma(n) + \\phi(n)}{\\sigma(n) + \\phi(n)/p + \\kappa(n,p)}$$\n",
      "\n",
      "Efficiency\n",
      "\n",
      "$$\\epsilon(n,p) < \\frac{\\sigma(n) + \\phi(n)}{p \\cdot \\sigma(n) + \\phi(n) + p\\cdot\\kappa(n,p)}$$\n",
      "\n",
      "Gustafson-Barsis\n",
      "\n",
      "$$\\psi(n,p) < p + (1-p)\\cdot s$$\n",
      "\n",
      "where $s = \\sigma(n)/\\sigma(n)+\\phi(n)/p)$\n",
      "\n",
      "Karp-Flatt\n",
      "\n",
      "$$e = \\frac{1/\\psi(n,p) - 1/p}{1 - 1/p}$$"
     ]
    },
    {
     "cell_type": "heading",
     "level": 2,
     "metadata": {
      "slideshow": {
       "slide_type": "slide"
      }
     },
     "source": [
      "Question"
     ]
    },
    {
     "cell_type": "markdown",
     "metadata": {
      "slideshow": {
       "slide_type": "-"
      }
     },
     "source": [
      "A 2.3 GHz CPU has can perform 1 load (or store), 1 addition, and 1 multiplication per cycle.\n",
      "\n",
      "- What is the maximum performance in MFLOPS/s this CPU can achieve?\n",
      "- Assume the latency to load one cache line from main memory is 100 ns, the bandwidth is 10 ns, and that each cache line can hold 4\n",
      "  double-precision values. Ignoring prefetching, what is the performance\n",
      "  in MFLOPS/s for the following code segment?\n",
      "\n",
      "```\n",
      "for(i =0; i<N; i++)\n",
      "    s = s + A[i] * B[i];\n",
      "```\n",
      "\n",
      "-  What is the expected performance if we assume that prefetching hides\n",
      "  all the latency?\n",
      "\n",
      "Conversions:\n",
      "\n",
      "- 1 GHz = 1e9 cycles/sec\n",
      "- 1 ns = 1e-9 sec\n",
      "- 1 FLOP = 1e-6 MFLOPS\n",
      "- 1 FLOP = 1e-9 GFLOPS"
     ]
    },
    {
     "cell_type": "code",
     "collapsed": false,
     "input": [
      "FLOPSs = 2.3e9 * 2 #cycles per sec * 2 Ops/cycle\n",
      "GFLOPSs = FLOPSs * 1e-9\n",
      "print GFLOPSs"
     ],
     "language": "python",
     "metadata": {},
     "outputs": [
      {
       "output_type": "stream",
       "stream": "stdout",
       "text": [
        "4.6\n"
       ]
      }
     ],
     "prompt_number": 3
    },
    {
     "cell_type": "code",
     "collapsed": false,
     "input": [
      "#transfer two cache lines\n",
      "latency_a = 100\n",
      "latency_b = 100\n",
      "band_a = 10\n",
      "band_b = 10\n",
      "#four values per line\n",
      "num_ops = 4 + 4 # 4 addition and 4 multiply\n",
      "\n",
      "FLOPS_ns = num_ops/float(latency_a + latency_b + band_a + band_b)\n",
      "FLOPS_s = FLOPS_ns/1e-9 #ns to sec\n",
      "MFLOPS_s = FLOPS_s*1e-6\n",
      "print MFLOPS_s\n"
     ],
     "language": "python",
     "metadata": {},
     "outputs": [
      {
       "output_type": "stream",
       "stream": "stdout",
       "text": [
        "36.3636363636\n"
       ]
      }
     ],
     "prompt_number": 13
    },
    {
     "cell_type": "code",
     "collapsed": false,
     "input": [
      "FLOPS_ns = num_ops/float(band_a + band_b)\n",
      "FLOPS_s = FLOPS_ns/1e-9 #ns to sec\n",
      "MFLOPS_s = FLOPS_s*1e-6\n",
      "print MFLOPS_s"
     ],
     "language": "python",
     "metadata": {},
     "outputs": [
      {
       "output_type": "stream",
       "stream": "stdout",
       "text": [
        "400.0\n"
       ]
      }
     ],
     "prompt_number": 14
    },
    {
     "cell_type": "heading",
     "level": 2,
     "metadata": {},
     "source": [
      "Question"
     ]
    },
    {
     "cell_type": "markdown",
     "metadata": {
      "slideshow": {
       "slide_type": "slide"
      }
     },
     "source": [
      "You profile your code and discover it is dominated by three operations:\n",
      "\n",
      "    Read data                10 sec\n",
      "    Matrix-vector multiply   75 sec\n",
      "    Write data                5 sec\n",
      "\n",
      "If you parallelize the Matrix-vector loop, \n",
      "\n",
      "- How much speedup will you get with 12 processors?  \n",
      "- What is the maximum speedup you can achieve?\n",
      "- How many processors should you use to have at least an 80% efficiency?"
     ]
    },
    {
     "cell_type": "code",
     "collapsed": false,
     "input": [
      "speedup = (10 + 5 + 75)/float(10+5 + 75/12.0)\n",
      "print speedup"
     ],
     "language": "python",
     "metadata": {},
     "outputs": [
      {
       "output_type": "stream",
       "stream": "stdout",
       "text": [
        "4.23529411765\n"
       ]
      }
     ],
     "prompt_number": 15
    },
    {
     "cell_type": "code",
     "collapsed": false,
     "input": [
      "max_speedup = (10 + 5 + 75)/float(10+5 + 75/100000.0)\n",
      "max_speedup = (10 + 5 + 75)/float(10+5 )\n",
      "print max_speedup"
     ],
     "language": "python",
     "metadata": {},
     "outputs": [
      {
       "output_type": "stream",
       "stream": "stdout",
       "text": [
        "6.0\n"
       ]
      }
     ],
     "prompt_number": 17
    },
    {
     "cell_type": "markdown",
     "metadata": {},
     "source": [
      "Ignoring parallel costs, we have.\n",
      "\n",
      "$$ e = \\frac{\\sigma + \\phi}{p \\cdot \\sigma + \\phi}$$\n",
      "\n",
      "Solve for p or..."
     ]
    },
    {
     "cell_type": "code",
     "collapsed": false,
     "input": [
      "for p in range(1,12):\n",
      "    eff = (10 + 5 + 75)/float(p * (10 + 5) + 75)\n",
      "    print p, eff"
     ],
     "language": "python",
     "metadata": {},
     "outputs": [
      {
       "output_type": "stream",
       "stream": "stdout",
       "text": [
        "1 1.0\n",
        "2 0.857142857143\n",
        "3 0.75\n",
        "4 0.666666666667\n",
        "5 0.6\n",
        "6 0.545454545455\n",
        "7 0.5\n",
        "8 0.461538461538\n",
        "9 0.428571428571\n",
        "10 0.4\n",
        "11 0.375\n"
       ]
      }
     ],
     "prompt_number": 22
    },
    {
     "cell_type": "heading",
     "level": 2,
     "metadata": {},
     "source": [
      "Question"
     ]
    },
    {
     "cell_type": "markdown",
     "metadata": {
      "slideshow": {
       "slide_type": "slide"
      }
     },
     "source": [
      "What are the two most important limitations of Amdahl's law?"
     ]
    },
    {
     "cell_type": "markdown",
     "metadata": {},
     "source": [
      "1. ignores parallel costs\n",
      "2. Does not account for problem size: Amdahl's effect"
     ]
    },
    {
     "cell_type": "heading",
     "level": 2,
     "metadata": {},
     "source": [
      "Question"
     ]
    },
    {
     "cell_type": "markdown",
     "metadata": {
      "slideshow": {
       "slide_type": "slide"
      }
     },
     "source": [
      "You have an application running on 12 cores using OpenMP.  After profiling you code, you discover that it spends 23 seconds out of 235 second runtime is spend doing serial work.  \n",
      "\n",
      "- What is the scaled speedup of the application?\n",
      "- Assume you can reduce the time spent doing serial work.  How much will you need to reduce it by in seconds in order to achieve a scaled speedup of 11 using all 12 threads?\n"
     ]
    },
    {
     "cell_type": "code",
     "collapsed": false,
     "input": [
      "s = 23/float(235)\n",
      "print s\n",
      "scaled_speedup = 12 + (1-12)*s\n",
      "print scaled_speedup"
     ],
     "language": "python",
     "metadata": {},
     "outputs": [
      {
       "output_type": "stream",
       "stream": "stdout",
       "text": [
        "0.0978723404255\n",
        "10.9234042553\n"
       ]
      }
     ],
     "prompt_number": 32
    },
    {
     "cell_type": "code",
     "collapsed": false,
     "input": [
      "for x in range(0,25):\n",
      "    s = x/float(235)\n",
      "    scaled_speedup = 12 + (1-12)*s\n",
      "    print x,s,scaled_speedup"
     ],
     "language": "python",
     "metadata": {},
     "outputs": [
      {
       "output_type": "stream",
       "stream": "stdout",
       "text": [
        "0 0.0 12.0\n",
        "1 0.00425531914894 11.9531914894\n",
        "2 0.00851063829787 11.9063829787\n",
        "3 0.0127659574468 11.8595744681\n",
        "4 0.0170212765957 11.8127659574\n",
        "5 0.0212765957447 11.7659574468\n",
        "6 0.0255319148936 11.7191489362\n",
        "7 0.0297872340426 11.6723404255\n",
        "8 0.0340425531915 11.6255319149\n",
        "9 0.0382978723404 11.5787234043\n",
        "10 0.0425531914894 11.5319148936\n",
        "11 0.0468085106383 11.485106383\n",
        "12 0.0510638297872 11.4382978723\n",
        "13 0.0553191489362 11.3914893617\n",
        "14 0.0595744680851 11.3446808511\n",
        "15 0.063829787234 11.2978723404\n",
        "16 0.068085106383 11.2510638298\n",
        "17 0.0723404255319 11.2042553191\n",
        "18 0.0765957446809 11.1574468085\n",
        "19 0.0808510638298 11.1106382979\n",
        "20 0.0851063829787 11.0638297872\n",
        "21 0.0893617021277 11.0170212766\n",
        "22 0.0936170212766 10.970212766\n",
        "23 0.0978723404255 10.9234042553\n",
        "24 0.102127659574 10.8765957447\n"
       ]
      }
     ],
     "prompt_number": 34
    },
    {
     "cell_type": "markdown",
     "metadata": {},
     "source": [
      "Answer 2 seconds."
     ]
    },
    {
     "cell_type": "heading",
     "level": 2,
     "metadata": {},
     "source": [
      "Question"
     ]
    },
    {
     "cell_type": "markdown",
     "metadata": {
      "slideshow": {
       "slide_type": "slide"
      }
     },
     "source": [
      "You are considering two different implementations of you code, one with MPI and the other with OpenMP.  After checking the scaling of each, you create the following table.\n",
      "\n",
      "```\n",
      "p              2      4     8\n",
      "MPI          1.9    3.2   4.7\n",
      "OpenMP       1.8    3.1   4.7\n",
      "\n",
      "```\n",
      "\n",
      "Since MPI is not limited to a node, you have the potential to use more than 8 cores. \n",
      "\n",
      "- What does the *Karp-Flatt* metric say about each of these codes?\n",
      "- Is the MPI likely to achieve a speedup of 8 using 12 cores?"
     ]
    },
    {
     "cell_type": "code",
     "collapsed": false,
     "input": [
      "import numpy as np\n",
      "mpi = np.array([1.9,3.2,4.7])\n",
      "openmp = np.array([1.8,3.1,4.7])\n",
      "p = np.array([2.0,4.,8.])"
     ],
     "language": "python",
     "metadata": {},
     "outputs": [],
     "prompt_number": 1
    },
    {
     "cell_type": "code",
     "collapsed": false,
     "input": [
      "e_openmp = (1/openmp- 1/p)/(1-1/p)\n",
      "print e_openmp"
     ],
     "language": "python",
     "metadata": {},
     "outputs": [
      {
       "output_type": "stream",
       "stream": "stdout",
       "text": [
        "[ 0.11111111  0.09677419  0.10030395]\n"
       ]
      }
     ],
     "prompt_number": 2
    },
    {
     "cell_type": "code",
     "collapsed": false,
     "input": [
      "e_mpi = (1/mpi - 1/p)/(1-1/p)\n",
      "print e_mpi"
     ],
     "language": "python",
     "metadata": {},
     "outputs": [
      {
       "output_type": "stream",
       "stream": "stdout",
       "text": [
        "[ 0.05263158  0.08333333  0.10030395]\n"
       ]
      }
     ],
     "prompt_number": 3
    },
    {
     "cell_type": "markdown",
     "metadata": {},
     "source": [
      "Since the Karp-flatt metric is increasing for MPI, we know it is due to the parallel cost.  For OpenMP, the limitation is due to the large serial fraction. "
     ]
    },
    {
     "cell_type": "code",
     "collapsed": false,
     "input": [
      "speedup_with_8 = 4.7\n",
      "best_speedup_with_12 = speedup_with_8 + 0.5*speedup_with_8\n",
      "print best_speedup_with_12"
     ],
     "language": "python",
     "metadata": {},
     "outputs": [
      {
       "output_type": "stream",
       "stream": "stdout",
       "text": [
        "7.05\n"
       ]
      }
     ],
     "prompt_number": 62
    },
    {
     "cell_type": "markdown",
     "metadata": {},
     "source": [
      "No, not likely"
     ]
    },
    {
     "cell_type": "heading",
     "level": 2,
     "metadata": {},
     "source": [
      "Question"
     ]
    },
    {
     "cell_type": "markdown",
     "metadata": {
      "slideshow": {
       "slide_type": "slide"
      }
     },
     "source": [
      "- True or False.  If it's in cache then it is also in RAM?"
     ]
    },
    {
     "cell_type": "markdown",
     "metadata": {},
     "source": [
      "True"
     ]
    },
    {
     "cell_type": "heading",
     "level": 2,
     "metadata": {},
     "source": [
      "Question"
     ]
    },
    {
     "cell_type": "markdown",
     "metadata": {
      "slideshow": {
       "slide_type": "slide"
      }
     },
     "source": [
      "You run two versions of the `stream` benchmark on JANUS: one with parallel initialization and one without.  You observe the following output.\n",
      "\n",
      "Initialization with OpenMP\n",
      "```\n",
      "export OMP_NUM_THREADS=6\n",
      "./stream_omp\n",
      "\n",
      "Function      Rate (MB/s)   Avg time     Min time     Max time\n",
      "Copy:       24510.1768       0.0033       0.0033       0.0033\n",
      "Scale:      24330.6736       0.0033       0.0033       0.0033\n",
      "Add:        25141.9392       0.0048       0.0048       0.0049\n",
      "Triad:      25423.8763       0.0047       0.0047       0.0047\n",
      "```\n",
      "\n",
      "Initialization without OpenMP\n",
      "```\n",
      "export OMP_NUM_THREADS=6\n",
      "./stream_omp\n",
      "\n",
      "Function      Rate (MB/s)   Avg time     Min time     Max time\n",
      "Copy:       13867.7600       0.0058       0.0058       0.0058\n",
      "Scale:      13500.0732       0.0060       0.0059       0.0061\n",
      "Add:        14450.6598       0.0083       0.0083       0.0084\n",
      "Triad:      14857.1739       0.0081       0.0081       0.0082\n",
      "```\n",
      "\n",
      "- How do you explain the difference in performance?\n"
     ]
    },
    {
     "cell_type": "markdown",
     "metadata": {},
     "source": [
      "All the data exists on a single socket's memory.  This slows down the access for half the threads when initialized without OpenMP."
     ]
    },
    {
     "cell_type": "heading",
     "level": 2,
     "metadata": {},
     "source": [
      "Question"
     ]
    },
    {
     "cell_type": "markdown",
     "metadata": {
      "slideshow": {
       "slide_type": "slide"
      }
     },
     "source": [
      "Consider the following code segment that operates on a double-precision array of length N.\n",
      "\n",
      "```\n",
      "double s = compute_s();\n",
      "double x = compute_x();\n",
      "for(int i=0; i<N; ++i)\n",
      "    A[i] = A[i] + s + r*sin(x)\n",
      "```\n",
      "\n",
      "What's the easiest way to make this loop more efficient?"
     ]
    },
    {
     "cell_type": "markdown",
     "metadata": {},
     "source": [
      "Move the `s + r*sin(x)` outside the loop. "
     ]
    },
    {
     "cell_type": "heading",
     "level": 2,
     "metadata": {},
     "source": [
      "Question"
     ]
    },
    {
     "cell_type": "markdown",
     "metadata": {
      "slideshow": {
       "slide_type": "slide"
      }
     },
     "source": [
      "Which code segment is more efficient?\n",
      "\n",
      "C program\n",
      "```\n",
      "for(i=0; i<N; ++i){\n",
      "    for(j=0; j<N; ++j){\n",
      "        a[j + i*N] = i*j; \n",
      "    }\n",
      "}\n",
      "```\n",
      "\n",
      "Fortran program\n",
      "```\n",
      "do i=1,N\n",
      "    do j=1,N\n",
      "      A(i,j) = i*j \n",
      "    enddo\n",
      "enddo\n",
      "```\n",
      " \n",
      "Explain your answer.\n"
     ]
    },
    {
     "cell_type": "markdown",
     "metadata": {},
     "source": [
      "The C program is more efficient because it has stride-1 access. FORTRAN has stride-n access."
     ]
    },
    {
     "cell_type": "heading",
     "level": 2,
     "metadata": {},
     "source": [
      "Question"
     ]
    },
    {
     "cell_type": "markdown",
     "metadata": {},
     "source": [
      "You are considering OpenMP for speeding up the following code segment.\n",
      "\n",
      "```\n",
      "for(int i=0; i<num_rows; ++i)\n",
      "{\n",
      "    for(int j=0; j<num_cols; ++j)\n",
      "    {\n",
      "        a(i,j) = a(i,j) + tmp\n",
      "    }\n",
      "}\n",
      "```\n",
      "\n",
      "- From an OpenMP perspective, which loop should you add the `#pragma omp` command to, `i` or `j`?\n",
      "- What is the `#pragma` you would use?\n",
      "- How does this impact cache?"
     ]
    },
    {
     "cell_type": "markdown",
     "metadata": {},
     "source": [
      "Outer loop `i`.\n",
      "\n",
      "`#pragma omp parallel for private(j)`\n",
      "\n",
      "No negative impact on cache."
     ]
    },
    {
     "cell_type": "heading",
     "level": 2,
     "metadata": {},
     "source": [
      "Question"
     ]
    },
    {
     "cell_type": "markdown",
     "metadata": {},
     "source": [
      "You have a code segment that computes the value of pi.\n",
      "\n",
      "```\n",
      "double x, sum = 0.0; \n",
      "const double step = 1.0/large_number; \n",
      "    \n",
      "for (int i=1; i<= large_number; i++){ \n",
      "    x = (i-0.5)*step; \n",
      "    sum += 4.0/(1.0+x*x)*step; \n",
      "} \n",
      "```\n",
      "\n",
      "As a first attempt to speed this up, you try the following *correct* implementation.\n",
      "\n",
      "```\n",
      "#pragma omp parallel for private(x) \n",
      "for (int i=1;i<= num_steps; i++){ \n",
      "  x = double(i-0.5)*step; \n",
      "  \n",
      "  #pragma omp critical\n",
      "  sum += 4.0/(1.0+x*x); \n",
      "} \n",
      "```\n",
      "- Although the answer is correct, there is no speedup.  Why?\n",
      "- What `#pragma` would you use instead?"
     ]
    },
    {
     "cell_type": "markdown",
     "metadata": {},
     "source": [
      "Critical forces all the threads to execute one at a time.\n",
      "\n",
      "```\n",
      "#pragma omp parallel for reduction(+:sum) private(x) \n",
      "for (int i=1;i<= num_steps; i++){ \n",
      "  x = double(i-0.5)*step; \n",
      "  sum += 4.0/(1.0+x*x); \n",
      "} \n",
      "```"
     ]
    },
    {
     "cell_type": "code",
     "collapsed": false,
     "input": [],
     "language": "python",
     "metadata": {},
     "outputs": []
    }
   ],
   "metadata": {}
  }
 ]
}